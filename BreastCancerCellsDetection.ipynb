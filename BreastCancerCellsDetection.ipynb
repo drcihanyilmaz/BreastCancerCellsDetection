{
 "cells": [
  {
   "cell_type": "code",
   "execution_count": 6,
   "id": "innovative-gazette",
   "metadata": {},
   "outputs": [],
   "source": [
    "# In this assignment, you will implement an algorithm to automatically detect cells in the attached image of breast cancer cells taken with a phase-contrast optical microscope. \n",
    "# Your code should apply various basic image processing and binary morphology operations to the input image.\n",
    "\n",
    "import cv2\n",
    "import numpy as np\n",
    "\n",
    "# Görüntüyü yükle\n",
    "image = cv2.imread('C://Users/pc/Desktop/Breast_Cancer/PhaseContrastImage.jpg')\n",
    "\n",
    "# Görüntüyü gri tonlamaya dönüştürme\n",
    "gray = cv2.cvtColor(image, cv2.COLOR_BGR2GRAY)\n",
    "\n",
    "# Gürültüyü azaltmak ve kenar algılamaya yardımcı olmak için Gauss bulanıklığı uygulama\n",
    "blurred = cv2.GaussianBlur(gray, (5, 5), 0)\n",
    "\n",
    "# Canny kullanarak kenar algılama uygulama\n",
    "edges = cv2.Canny(blurred, 50, 150)\n",
    "\n",
    "# Konturlardaki boşlukları doldurmak için dilatasyon uygulama\n",
    "dilated = cv2.dilate(edges, None, iterations=2)\n",
    "\n",
    "# Görüntüdeki konturları bulma\n",
    "contours, _ = cv2.findContours(dilated, cv2.RETR_EXTERNAL, cv2.CHAIN_APPROX_SIMPLE)\n",
    "\n",
    "# Konturlar arasında yineleme yapma ve küçük olanları (gürültü) filtreleme\n",
    "min_contour_area = 100\n",
    "filtered_contours = [contour for contour in contours if cv2.contourArea(contour) > min_contour_area]\n",
    "\n",
    "# Filtrelenmiş konturları orijinal görüntü üzerinde çizme\n",
    "result_image = image.copy()\n",
    "cv2.drawContours(result_image, filtered_contours, -1, (0, 255, 0), 2)\n",
    "\n",
    "# Sonucu görüntüleme\n",
    "cv2.imshow('Result', result_image)\n",
    "cv2.waitKey(0)\n",
    "cv2.destroyAllWindows()"
   ]
  },
  {
   "cell_type": "code",
   "execution_count": 7,
   "id": "prompt-petroleum",
   "metadata": {},
   "outputs": [],
   "source": [
    "# 1. find the regions of breast cancer cells (segmentation)\n",
    "\n",
    "# İkili görüntü oluşturmak için uyarlamalı eşikleme uygulama\n",
    "_, thresh = cv2.threshold(blurred, 0, 255, cv2.THRESH_BINARY + cv2.THRESH_OTSU)\n",
    "\n",
    "# İkili görüntüdeki konturları bulma\n",
    "contours, _ = cv2.findContours(thresh, cv2.RETR_EXTERNAL, cv2.CHAIN_APPROX_SIMPLE)\n",
    "\n",
    "# Konturlar arasında yineleme yapın ve küçük olanları (gürültü) filtreleme\n",
    "min_contour_area = 100\n",
    "filtered_contours = [contour for contour in contours if cv2.contourArea(contour) > min_contour_area]\n",
    "\n",
    "# Bölümlere ayrılmış hücreleri saklamak için bir maske oluşturma\n",
    "cell_mask = np.zeros_like(gray)\n",
    "\n",
    "# Maske üzerinde filtrelenmiş konturları çizme\n",
    "cv2.drawContours(cell_mask, filtered_contours, -1, 255, thickness=cv2.FILLED)\n",
    "\n",
    "# Bölütlenmiş hücreleri elde etmek için bitsel ve orijinal görüntüyü maskeleme\n",
    "segmented_cells = cv2.bitwise_and(image, image, mask=cell_mask)\n",
    "\n",
    "# Sonucu görüntüleme\n",
    "cv2.imshow('Segmented Cells', segmented_cells)\n",
    "cv2.waitKey(0)\n",
    "cv2.destroyAllWindows()"
   ]
  },
  {
   "cell_type": "code",
   "execution_count": 8,
   "id": "related-maria",
   "metadata": {},
   "outputs": [],
   "source": [
    "# 2. extract the boundaries of the segmented cells\n",
    "\n",
    "# Sınırları çizmek için boş bir siyah görüntü oluşturma\n",
    "boundary_image = np.zeros_like(gray)\n",
    "\n",
    "# Boş görüntü üzerinde yalnızca sınırları çizme\n",
    "cv2.drawContours(boundary_image, filtered_contours, -1, 255, thickness=1)\n",
    "\n",
    "# Sonucu görüntüleme\n",
    "cv2.imshow('Cell Boundaries', boundary_image)\n",
    "cv2.waitKey(0)\n",
    "cv2.destroyAllWindows()# Create an empty black image to draw the boundaries\n",
    "boundary_image = np.zeros_like(gray)\n",
    "\n",
    "# Boş görüntü üzerinde yalnızca sınırları çizme\n",
    "cv2.drawContours(boundary_image, filtered_contours, -1, 255, thickness=1)\n",
    "\n",
    "# Sonucu görüntüleme\n",
    "cv2.imshow('Cell Boundaries', boundary_image)\n",
    "cv2.waitKey(0)\n",
    "cv2.destroyAllWindows()"
   ]
  },
  {
   "cell_type": "code",
   "execution_count": 9,
   "id": "greater-ranch",
   "metadata": {},
   "outputs": [],
   "source": [
    "# 3. should show cell borders in color on the original image (overlay)\n",
    "\n",
    "# Orijinal görüntünün bir kopyasını oluşturma\n",
    "image_with_boundaries = image.copy()\n",
    "\n",
    "# Orijinal görüntünün kopyası üzerinde yalnızca sınırları çizme\n",
    "cv2.drawContours(image_with_boundaries, filtered_contours, -1, (0, 255, 0), thickness=2)\n",
    "\n",
    "# Sonucu görüntüleme\n",
    "cv2.imshow('Original Image with Cell Boundaries', image_with_boundaries)\n",
    "cv2.waitKey(0)\n",
    "cv2.destroyAllWindows()"
   ]
  },
  {
   "cell_type": "code",
   "execution_count": 10,
   "id": "delayed-license",
   "metadata": {},
   "outputs": [
    {
     "name": "stdout",
     "output_type": "stream",
     "text": [
      "Number of breast cancer cells: 204\n"
     ]
    }
   ],
   "source": [
    "# 4. must count how many breast cancer cells are in the picture.\n",
    "\n",
    "# Hücre sayısını sayma\n",
    "cell_count = len(filtered_contours)\n",
    "print(f\"Number of breast cancer cells: {cell_count}\")\n",
    "\n",
    "# Sonucu görüntüleme\n",
    "cv2.imshow('Original Image with Cell Boundaries', image_with_boundaries)\n",
    "cv2.waitKey(0)\n",
    "cv2.destroyAllWindows()"
   ]
  },
  {
   "cell_type": "code",
   "execution_count": null,
   "id": "parliamentary-cattle",
   "metadata": {},
   "outputs": [],
   "source": []
  }
 ],
 "metadata": {
  "kernelspec": {
   "display_name": "Python 3",
   "language": "python",
   "name": "python3"
  },
  "language_info": {
   "codemirror_mode": {
    "name": "ipython",
    "version": 3
   },
   "file_extension": ".py",
   "mimetype": "text/x-python",
   "name": "python",
   "nbconvert_exporter": "python",
   "pygments_lexer": "ipython3",
   "version": "3.6.12"
  }
 },
 "nbformat": 4,
 "nbformat_minor": 5
}
